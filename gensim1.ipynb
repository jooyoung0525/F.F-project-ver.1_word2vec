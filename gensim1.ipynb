
{
 "cells": [
  {
   "cell_type": "markdown",
   "metadata": {},
   "source": [
    "#  Pandas 에서 excelfile 를 읽어 DataFrame으로 만들기"
   ]
  },
  {
   "cell_type": "code",
   "execution_count": 2,
   "metadata": {},
   "outputs": [
    {
     "name": "stdout",
     "output_type": "stream",
     "text": [
      "/home/sungwoo\n"
     ]
    }
   ],
   "source": [
    "import pandas as pd\n",
    "import os\n",
    "a = os.getcwd()\n",
    "print (a)"
   ]
  },
  {
   "cell_type": "code",
   "execution_count": 76,
   "metadata": {},
   "outputs": [],
   "source": [
    "df=pd.read_excel('/home/sungwoo/Ethnography.xlsx'); \n"
   ]
  },
  {
   "cell_type": "code",
   "execution_count": 77,
   "metadata": {},
   "outputs": [
    {
     "name": "stdout",
     "output_type": "stream",
     "text": [
      "0            songdo\n",
      "1    subway station\n",
      "2              home\n",
      "Name: Location, dtype: object\n",
      "\n",
      "No                   1\n",
      "Time          12:08:00\n",
      "Location        songdo\n",
      "Thing         Computer\n",
      "Group              1-1\n",
      "Unnamed: 5         NaN\n",
      "Unnamed: 6         NaN\n",
      "Name: 0, dtype: object\n"
     ]
    },
    {
     "name": "stderr",
     "output_type": "stream",
     "text": [
      "/home/sungwoo/.local/lib/python3.5/site-packages/ipykernel_launcher.py:3: DeprecationWarning: \n",
      ".ix is deprecated. Please use\n",
      ".loc for label based indexing or\n",
      ".iloc for positional indexing\n",
      "\n",
      "See the documentation here:\n",
      "http://pandas.pydata.org/pandas-docs/stable/indexing.html#ix-indexer-is-deprecated\n",
      "  This is separate from the ipykernel package so we can avoid doing imports until\n"
     ]
    }
   ],
   "source": [
    "print (df['Location'][:3])\n",
    "print ( ) \n",
    "print (df.ix[0])"
   ]
  },
  {
   "cell_type": "code",
   "execution_count": 78,
   "metadata": {
    "scrolled": true
   },
   "outputs": [
    {
     "data": {
      "text/html": [
       "<div>\n",
       "<style>\n",
       "    .dataframe thead tr:only-child th {\n",
       "        text-align: right;\n",
       "    }\n",
       "\n",
       "    .dataframe thead th {\n",
       "        text-align: left;\n",
       "    }\n",
       "\n",
       "    .dataframe tbody tr th {\n",
       "        vertical-align: top;\n",
       "    }\n",
       "</style>\n",
       "<table border=\"1\" class=\"dataframe\">\n",
       "  <thead>\n",
       "    <tr style=\"text-align: right;\">\n",
       "      <th></th>\n",
       "      <th>No</th>\n",
       "      <th>Time</th>\n",
       "      <th>Location</th>\n",
       "      <th>Thing</th>\n",
       "      <th>Group</th>\n",
       "    </tr>\n",
       "  </thead>\n",
       "  <tbody>\n",
       "    <tr>\n",
       "      <th>0</th>\n",
       "      <td>1</td>\n",
       "      <td>12:08:00</td>\n",
       "      <td>songdo</td>\n",
       "      <td>Computer</td>\n",
       "      <td>1-1</td>\n",
       "    </tr>\n",
       "    <tr>\n",
       "      <th>1</th>\n",
       "      <td>2</td>\n",
       "      <td>12:08:00</td>\n",
       "      <td>subway station</td>\n",
       "      <td>iPhone</td>\n",
       "      <td>1-1</td>\n",
       "    </tr>\n",
       "    <tr>\n",
       "      <th>2</th>\n",
       "      <td>3</td>\n",
       "      <td>20:11:00</td>\n",
       "      <td>home</td>\n",
       "      <td>laptop</td>\n",
       "      <td>1-1</td>\n",
       "    </tr>\n",
       "  </tbody>\n",
       "</table>\n",
       "</div>"
      ],
      "text/plain": [
       "   No      Time        Location     Thing Group\n",
       "0   1  12:08:00          songdo  Computer   1-1\n",
       "1   2  12:08:00  subway station    iPhone   1-1\n",
       "2   3  20:11:00            home    laptop   1-1"
      ]
     },
     "execution_count": 78,
     "metadata": {},
     "output_type": "execute_result"
    }
   ],
   "source": [
    "df.drop(['Unnamed: 5','Unnamed: 6'],axis=1)[:3]"
   ]
  },
  {
   "cell_type": "code",
   "execution_count": 6,
   "metadata": {
    "scrolled": true
   },
   "outputs": [
    {
     "name": "stdout",
     "output_type": "stream",
     "text": [
      "<pandas.core.groupby.DataFrameGroupBy object at 0x7f880d684828>\n",
      "2                 laptop\n",
      "15         night walking\n",
      "22           feeding dog\n",
      "27              drinking\n",
      "39     sleeping with dog\n",
      "44                laptop\n",
      "46                laptop\n",
      "51                    TV\n",
      "62                    TV\n",
      "63                  book\n",
      "64                 mouse\n",
      "65            board game\n",
      "68                    TV\n",
      "70                 ramen\n",
      "78                laptop\n",
      "82                laptop\n",
      "83                    TV\n",
      "84                    TV\n",
      "89             big grape\n",
      "90                   bed\n",
      "92                burden\n",
      "93               carrier\n",
      "94              computer\n",
      "96            piggy bank\n",
      "98              computer\n",
      "99              computer\n",
      "108           hair dryer\n",
      "109          smart phone\n",
      "112      soju and friend\n",
      "113              Rabokki\n",
      "             ...        \n",
      "370                  pot\n",
      "380                  pot\n",
      "417                   TV\n",
      "418             computer\n",
      "451           smartphone\n",
      "452           smartphone\n",
      "453           smartphone\n",
      "456                 book\n",
      "461                   tv\n",
      "464           smartphone\n",
      "470           smartphone\n",
      "473               laptop\n",
      "474               laptop\n",
      "476                 book\n",
      "477           smartphone\n",
      "478                 book\n",
      "479                 book\n",
      "487                 book\n",
      "488              desktop\n",
      "503           smartphone\n",
      "625               laptop\n",
      "628                   TV\n",
      "630                   TV\n",
      "631               laptop\n",
      "633         refrigerator\n",
      "638           smartphone\n",
      "647                   TV\n",
      "648              monitor\n",
      "649               laptop\n",
      "656                   TV\n",
      "Name: Thing, Length: 125, dtype: object\n"
     ]
    }
   ],
   "source": [
    "gb=df.groupby('Location')\n",
    "print (gb)\n",
    "print (gb.get_group('home').Thing)"
   ]
  },
  {
   "cell_type": "code",
   "execution_count": 7,
   "metadata": {},
   "outputs": [
    {
     "name": "stdout",
     "output_type": "stream",
     "text": [
      "2                 laptop\n",
      "15         night walking\n",
      "22           feeding dog\n",
      "27              drinking\n",
      "39     sleeping with dog\n",
      "44                laptop\n",
      "46                laptop\n",
      "51                    TV\n",
      "62                    TV\n",
      "63                  book\n",
      "64                 mouse\n",
      "65            board game\n",
      "68                    TV\n",
      "70                 ramen\n",
      "78                laptop\n",
      "82                laptop\n",
      "83                    TV\n",
      "84                    TV\n",
      "89             big grape\n",
      "90                   bed\n",
      "92                burden\n",
      "93               carrier\n",
      "94              computer\n",
      "96            piggy bank\n",
      "98              computer\n",
      "99              computer\n",
      "108           hair dryer\n",
      "109          smart phone\n",
      "112      soju and friend\n",
      "113              Rabokki\n",
      "             ...        \n",
      "370                  pot\n",
      "380                  pot\n",
      "417                   TV\n",
      "418             computer\n",
      "451           smartphone\n",
      "452           smartphone\n",
      "453           smartphone\n",
      "456                 book\n",
      "461                   tv\n",
      "464           smartphone\n",
      "470           smartphone\n",
      "473               laptop\n",
      "474               laptop\n",
      "476                 book\n",
      "477           smartphone\n",
      "478                 book\n",
      "479                 book\n",
      "487                 book\n",
      "488              desktop\n",
      "503           smartphone\n",
      "625               laptop\n",
      "628                   TV\n",
      "630                   TV\n",
      "631               laptop\n",
      "633         refrigerator\n",
      "638           smartphone\n",
      "647                   TV\n",
      "648              monitor\n",
      "649               laptop\n",
      "656                   TV\n",
      "Name: Thing, Length: 125, dtype: object\n"
     ]
    }
   ],
   "source": [
    "print (df[df.Location == 'home'].Thing)"
   ]
  },
  {
   "cell_type": "code",
   "execution_count": 8,
   "metadata": {},
   "outputs": [
    {
     "data": {
      "text/html": [
       "<div>\n",
       "<style>\n",
       "    .dataframe thead tr:only-child th {\n",
       "        text-align: right;\n",
       "    }\n",
       "\n",
       "    .dataframe thead th {\n",
       "        text-align: left;\n",
       "    }\n",
       "\n",
       "    .dataframe tbody tr th {\n",
       "        vertical-align: top;\n",
       "    }\n",
       "</style>\n",
       "<table border=\"1\" class=\"dataframe\">\n",
       "  <thead>\n",
       "    <tr style=\"text-align: right;\">\n",
       "      <th></th>\n",
       "      <th>No</th>\n",
       "      <th>Time</th>\n",
       "      <th>Location</th>\n",
       "      <th>Thing</th>\n",
       "      <th>Group</th>\n",
       "      <th>Unnamed: 5</th>\n",
       "      <th>Unnamed: 6</th>\n",
       "    </tr>\n",
       "  </thead>\n",
       "  <tbody>\n",
       "    <tr>\n",
       "      <th>0</th>\n",
       "      <td>1</td>\n",
       "      <td>12:08:00</td>\n",
       "      <td>songdo</td>\n",
       "      <td>Computer</td>\n",
       "      <td>1-1</td>\n",
       "      <td>NaN</td>\n",
       "      <td>NaN</td>\n",
       "    </tr>\n",
       "    <tr>\n",
       "      <th>1</th>\n",
       "      <td>2</td>\n",
       "      <td>12:08:00</td>\n",
       "      <td>subway station</td>\n",
       "      <td>iPhone</td>\n",
       "      <td>1-1</td>\n",
       "      <td>NaN</td>\n",
       "      <td>NaN</td>\n",
       "    </tr>\n",
       "    <tr>\n",
       "      <th>2</th>\n",
       "      <td>3</td>\n",
       "      <td>20:11:00</td>\n",
       "      <td>home</td>\n",
       "      <td>laptop</td>\n",
       "      <td>1-1</td>\n",
       "      <td>NaN</td>\n",
       "      <td>NaN</td>\n",
       "    </tr>\n",
       "    <tr>\n",
       "      <th>3</th>\n",
       "      <td>4</td>\n",
       "      <td>20:11:00</td>\n",
       "      <td>school</td>\n",
       "      <td>cigarette</td>\n",
       "      <td>1-1</td>\n",
       "      <td>NaN</td>\n",
       "      <td>NaN</td>\n",
       "    </tr>\n",
       "    <tr>\n",
       "      <th>4</th>\n",
       "      <td>5</td>\n",
       "      <td>22:42:00</td>\n",
       "      <td>Dongchun</td>\n",
       "      <td>laptop</td>\n",
       "      <td>1-1</td>\n",
       "      <td>NaN</td>\n",
       "      <td>NaN</td>\n",
       "    </tr>\n",
       "  </tbody>\n",
       "</table>\n",
       "</div>"
      ],
      "text/plain": [
       "   No      Time        Location      Thing Group  Unnamed: 5 Unnamed: 6\n",
       "0   1  12:08:00          songdo   Computer   1-1         NaN        NaN\n",
       "1   2  12:08:00  subway station     iPhone   1-1         NaN        NaN\n",
       "2   3  20:11:00            home     laptop   1-1         NaN        NaN\n",
       "3   4  20:11:00          school  cigarette   1-1         NaN        NaN\n",
       "4   5  22:42:00        Dongchun     laptop   1-1         NaN        NaN"
      ]
     },
     "execution_count": 8,
     "metadata": {},
     "output_type": "execute_result"
    }
   ],
   "source": [
    "df[:5]"
   ]
  },
  {
   "cell_type": "code",
   "execution_count": 9,
   "metadata": {
    "scrolled": true
   },
   "outputs": [
    {
     "data": {
      "text/html": [
       "<div>\n",
       "<style>\n",
       "    .dataframe thead tr:only-child th {\n",
       "        text-align: right;\n",
       "    }\n",
       "\n",
       "    .dataframe thead th {\n",
       "        text-align: left;\n",
       "    }\n",
       "\n",
       "    .dataframe tbody tr th {\n",
       "        vertical-align: top;\n",
       "    }\n",
       "</style>\n",
       "<table border=\"1\" class=\"dataframe\">\n",
       "  <thead>\n",
       "    <tr style=\"text-align: right;\">\n",
       "      <th></th>\n",
       "      <th>No</th>\n",
       "      <th>Time</th>\n",
       "      <th>Location</th>\n",
       "      <th>Thing</th>\n",
       "      <th>Group</th>\n",
       "    </tr>\n",
       "  </thead>\n",
       "  <tbody>\n",
       "    <tr>\n",
       "      <th>0</th>\n",
       "      <td>1</td>\n",
       "      <td>12:08:00</td>\n",
       "      <td>songdo</td>\n",
       "      <td>Computer</td>\n",
       "      <td>1-1</td>\n",
       "    </tr>\n",
       "    <tr>\n",
       "      <th>1</th>\n",
       "      <td>2</td>\n",
       "      <td>12:08:00</td>\n",
       "      <td>subway station</td>\n",
       "      <td>iPhone</td>\n",
       "      <td>1-1</td>\n",
       "    </tr>\n",
       "    <tr>\n",
       "      <th>2</th>\n",
       "      <td>3</td>\n",
       "      <td>20:11:00</td>\n",
       "      <td>home</td>\n",
       "      <td>laptop</td>\n",
       "      <td>1-1</td>\n",
       "    </tr>\n",
       "  </tbody>\n",
       "</table>\n",
       "</div>"
      ],
      "text/plain": [
       "   No      Time        Location     Thing Group\n",
       "0   1  12:08:00          songdo  Computer   1-1\n",
       "1   2  12:08:00  subway station    iPhone   1-1\n",
       "2   3  20:11:00            home    laptop   1-1"
      ]
     },
     "execution_count": 9,
     "metadata": {},
     "output_type": "execute_result"
    }
   ],
   "source": [
    "df.drop(['Unnamed: 5','Unnamed: 6'],axis=1)[:3]"
   ]
  },
  {
   "cell_type": "code",
   "execution_count": 79,
   "metadata": {
    "scrolled": true
   },
   "outputs": [],
   "source": [
    "df3 = df.reindex(columns=['Time', 'Location', 'Thing' ]).dropna(how='any').sort_values('Thing'); \n"
   ]
  },
  {
   "cell_type": "code",
   "execution_count": 30,
   "metadata": {},
   "outputs": [],
   "source": [
    "from gensim.models import word2vec\n",
    "import logging\n",
    "logging.basicConfig(format='%(asctime)s : %(levelname)s : %(message)s', level=logging.INFO)\n"
   ]
  },
  {
   "cell_type": "code",
   "execution_count": 84,
   "metadata": {},
   "outputs": [],
   "source": [
    "with open('sentences.txt' , 'w') as fp:\n",
    "    for value in df3.values:\n",
    "        Location = value[1].replace(' ', '')\n",
    "        for Thing in value[2].split(','):\n",
    "            fp.write('%s %s  \\n' % (Location,Thing.replace(' ', '')))\n",
    "\n",
    "    \n"
   ]
  },
  {
   "cell_type": "code",
   "execution_count": 85,
   "metadata": {},
   "outputs": [],
   "source": [
    "sentences = word2vec.Text8Corpus('sentences.txt')"
   ]
  },
  {
   "cell_type": "code",
   "execution_count": 86,
   "metadata": {},
   "outputs": [
    {
     "name": "stderr",
     "output_type": "stream",
     "text": [
      "2017-10-10 14:52:55,873 : INFO : collecting all words and their counts\n",
      "2017-10-10 14:52:55,875 : INFO : PROGRESS: at sentence #0, processed 0 words, keeping 0 word types\n",
      "2017-10-10 14:52:55,877 : INFO : collected 544 word types from a corpus of 1362 raw words and 1 sentences\n",
      "2017-10-10 14:52:55,878 : INFO : Loading a fresh vocabulary\n",
      "2017-10-10 14:52:55,880 : INFO : min_count=5 retains 49 unique words (9% of original 544, drops 495)\n",
      "2017-10-10 14:52:55,881 : INFO : min_count=5 leaves 699 word corpus (51% of original 1362, drops 663)\n",
      "2017-10-10 14:52:55,882 : INFO : deleting the raw counts dictionary of 544 items\n",
      "2017-10-10 14:52:55,884 : INFO : sample=0.001 downsamples 49 most-common words\n",
      "2017-10-10 14:52:55,885 : INFO : downsampling leaves estimated 175 word corpus (25.1% of prior 699)\n",
      "2017-10-10 14:52:55,886 : INFO : estimated required memory for 49 words and 100 dimensions: 63700 bytes\n",
      "2017-10-10 14:52:55,887 : INFO : resetting layer weights\n",
      "2017-10-10 14:52:55,889 : INFO : training model with 4 workers on 49 vocabulary and 100 features, using sg=0 hs=0 sample=0.001 negative=5 window=5\n",
      "2017-10-10 14:52:55,899 : INFO : worker thread finished; awaiting finish of 3 more threads\n",
      "2017-10-10 14:52:55,900 : INFO : worker thread finished; awaiting finish of 2 more threads\n",
      "2017-10-10 14:52:55,901 : INFO : worker thread finished; awaiting finish of 1 more threads\n",
      "2017-10-10 14:52:55,902 : INFO : worker thread finished; awaiting finish of 0 more threads\n",
      "2017-10-10 14:52:55,903 : INFO : training on 6810 raw words (842 effective words) took 0.0s, 90182 effective words/s\n",
      "2017-10-10 14:52:55,904 : WARNING : under 10 jobs per worker: consider setting a smaller `batch_words' for smoother alpha decay\n"
     ]
    }
   ],
   "source": [
    "model = word2vec.Word2Vec(sentences, size=100, window=5, min_count=5, workers=4)\n"
   ]
  },
  {
   "cell_type": "code",
   "execution_count": 69,
   "metadata": {},
   "outputs": [],
   "source": [
    "result = model.most_similar(positive=[u'songdo'], negative=[u'laptop'], topn=1)"
   ]
  },
  {
   "cell_type": "code",
   "execution_count": 72,
   "metadata": {},
   "outputs": [
    {
     "name": "stdout",
     "output_type": "stream",
     "text": [
      "book\n"
     ]
    }
   ],
   "source": [
    "for el in result:\n",
    "    print (el[0])"
   ]
  },
  {
   "cell_type": "code",
   "execution_count": 88,
   "metadata": {},
   "outputs": [],
   "source": [
    "result = model.most_similar(positive=[u'home'], negative=[u'songdo'], topn=1)\n"
   ]
  },
  {
   "cell_type": "code",
   "execution_count": 89,
   "metadata": {},
   "outputs": [
    {
     "name": "stdout",
     "output_type": "stream",
     "text": [
      "food\n"
     ]
    }
   ],
   "source": [
    "for el in result:\n",
    "    print (el[0])\n"
   ]
  },
  {
   "cell_type": "code",
   "execution_count": null,
   "metadata": {},
   "outputs": [],
   "source": []
  }
 ],
 "metadata": {
  "kernelspec": {
   "display_name": "Python 3",
   "language": "python",
   "name": "python3"
  },
  "language_info": {
   "codemirror_mode": {
    "name": "ipython",
    "version": 3
   },
   "file_extension": ".py",
   "mimetype": "text/x-python",
   "name": "python",
   "nbconvert_exporter": "python",
   "pygments_lexer": "ipython3",
   "version": "3.5.2"
  }
 },
 "nbformat": 4,
 "nbformat_minor": 2
}
